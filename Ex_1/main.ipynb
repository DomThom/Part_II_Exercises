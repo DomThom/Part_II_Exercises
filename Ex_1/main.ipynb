{
 "cells": [
  {
   "cell_type": "code",
   "execution_count": 1,
   "metadata": {},
   "outputs": [],
   "source": [
    "import numpy as np\n",
    "import pysmiles as pys\n",
    "import networkx as nx\n",
    "import urllib as ulib\n",
    "import scipy as scp"
   ]
  },
  {
   "cell_type": "code",
   "execution_count": 2,
   "metadata": {},
   "outputs": [],
   "source": [
    "# Defining functions\n",
    "def smile_convert(chemname):\n",
    "    '''\n",
    "    Function uses cactus.nci.nih.gov website to fetch the smile string corresponding\n",
    "    to the input molecule\n",
    "    Inputs can be of several forms: \n",
    "    IUPAC name\n",
    "    CAS number\n",
    "\n",
    "    Other input forms may work as the website is updated but these are best for\n",
    "    getting the correct result easily\n",
    "    \n",
    "    This will also accept molecules containing non-carbon atoms, meaning the \n",
    "    program could be expanded to drop the assumption that all atoms are carbon\n",
    "    '''\n",
    "    try:\n",
    "        url = 'https://cactus.nci.nih.gov/chemical/structure/' + ulib.parse.quote(chemname) + '/smiles'\n",
    "        smilestring = ulib.request.urlopen(url).read().decode('utf8')\n",
    "        return smilestring\n",
    "    except:\n",
    "        print('Failed to convert to smile string')\n",
    "\n",
    "def get_evals(matrix):\n",
    "    '''\n",
    "    Input in the form of square matrix is required \n",
    "\n",
    "    eigh function saves computation as only considers upper triangular part of\n",
    "    matrix, so symmetric matrix input needed also\n",
    "\n",
    "    Function also returns eigenvalues in ascending order + groups degenerate \n",
    "    eigenvalues, meaning only adjacent values need to be checked for degeneracy\n",
    "\n",
    "    Return eigenvalues and eigenvectors of the matrix\n",
    "    '''\n",
    "    evals, evec = np.linalg.eigh(matrix)\n",
    "    return evals"
   ]
  },
  {
   "cell_type": "code",
   "execution_count": null,
   "metadata": {},
   "outputs": [
    {
     "name": "stderr",
     "output_type": "stream",
     "text": [
      "C:\\Users\\domin\\AppData\\Local\\Temp\\ipykernel_16704\\3907054218.py:25: FutureWarning: adjacency_matrix will return a scipy.sparse array instead of a matrix in Networkx 3.0.\n",
      "  adj_matrix = nx.adjacency_matrix(molec_graph)\n"
     ]
    }
   ],
   "source": [
    "# Define dictionary for selecting platonic solid easily\n",
    "platonics = dict({\n",
    "    '4':nx.tetrahedral_graph(),\n",
    "    '6':nx.octahedral_graph(),\n",
    "    '8':nx.cubical_graph(),\n",
    "    '12':nx.dodecahedral_graph(),\n",
    "    '20':nx.icosahedral_graph()\n",
    "})\n",
    "\n",
    "# Input of molecule and conversion to a networkx graph object\n",
    "molec_cat = input('Select number to calculate for: 1.Molecule by name,\\\n",
    "2.Platonic Solid, 3.Molecule by SMILE string:  ')\n",
    "\n",
    "if molec_cat == '1':\n",
    "    molec_in = input('Input molecule IUPAC name or CAS number:  ')\n",
    "    molec_smile = smile_convert(molec_in)\n",
    "    molec_graph = pys.read_smiles(molec_smile,explicit_hydrogen=False,zero_order_bonds=True)\n",
    "elif molec_cat == '2':\n",
    "    n = input('Input number of vetrices in solid:  ')\n",
    "    molec_graph = platonics[n]\n",
    "elif molec_cat == '3':\n",
    "    molec_smile = input('Input molecule smile string:  ')\n",
    "    molec_graph = pys.read_smiles(molec_smile,explicit_hydrogen=False,zero_order_bonds=True)\n",
    "\n",
    "# Extract adjacency matrix from networkx graph object\n",
    "adj_matrix = nx.adjacency_matrix(molec_graph)\n",
    "adj_matrix = adj_matrix.toarray()"
   ]
  },
  {
   "cell_type": "code",
   "execution_count": 4,
   "metadata": {},
   "outputs": [],
   "source": [
    "# Create and solve Huckel matrix\n",
    "# Can switch commented lines below to have alpha and beta as inputs or preset\n",
    "\n",
    "# alpha = input('Alpha value to use')\n",
    "# beta = input('Beta value to use')\n",
    "alpha = 1\n",
    "beta = 2\n",
    "\n",
    "# Convert adjacency matrix to huckel matrix to solve\n",
    "huckel_matrix = adj_matrix*beta + np.identity(len(adj_matrix))*alpha"
   ]
  },
  {
   "cell_type": "code",
   "execution_count": 5,
   "metadata": {},
   "outputs": [],
   "source": [
    "# Calculate eigenvalues\n",
    "energy = get_evals(huckel_matrix)"
   ]
  },
  {
   "cell_type": "code",
   "execution_count": 78,
   "metadata": {},
   "outputs": [],
   "source": [
    "# Define result array to write to, inf means first value always appended\n",
    "eig_out = np.array(([np.Inf,np.Inf]),dtype=object)\n",
    "eig_out.shape = (1,2)                      # defining shape stops index error\n",
    "\n",
    "i = 0\n",
    "\n",
    "# Check each for degeneracy within a factor of 1% beta\n",
    "for eig in energy:\n",
    "    if abs(eig_out[i,0] - eig) <= 0.01*beta:\n",
    "        eig_out[i,1] += 1\n",
    "    else:\n",
    "        eig_join = np.array([np.round(eig,4),1])    # Round energies to 4dp\n",
    "        eig_out = np.vstack((eig_out,eig_join))     # may need to change later\n",
    "        i += 1\n",
    "\n",
    "eig_out[0,0] = 'Energy'\n",
    "eig_out[0,1] = 'Degeneracy'"
   ]
  },
  {
   "cell_type": "code",
   "execution_count": 79,
   "metadata": {},
   "outputs": [
    {
     "name": "stdout",
     "output_type": "stream",
     "text": [
      "[['Energy' 'Degeneracy']\n",
      " [-3.0 1.0]\n",
      " [-1.0 2.0]\n",
      " [3.0 2.0]\n",
      " [5.0 1.0]]\n"
     ]
    }
   ],
   "source": [
    "print(eig_out)"
   ]
  },
  {
   "cell_type": "code",
   "execution_count": null,
   "metadata": {},
   "outputs": [],
   "source": []
  }
 ],
 "metadata": {
  "kernelspec": {
   "display_name": "Python 3.10.7 64-bit (microsoft store)",
   "language": "python",
   "name": "python3"
  },
  "language_info": {
   "codemirror_mode": {
    "name": "ipython",
    "version": 3
   },
   "file_extension": ".py",
   "mimetype": "text/x-python",
   "name": "python",
   "nbconvert_exporter": "python",
   "pygments_lexer": "ipython3",
   "version": "3.10.8"
  },
  "orig_nbformat": 4,
  "vscode": {
   "interpreter": {
    "hash": "5d2303a83b41e77aef9ab3cc41bd46de92d4e5dcfd154d38b8843ad91545d40f"
   }
  }
 },
 "nbformat": 4,
 "nbformat_minor": 2
}
