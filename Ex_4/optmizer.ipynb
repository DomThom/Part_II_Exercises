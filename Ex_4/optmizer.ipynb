{
 "cells": [
  {
   "cell_type": "code",
   "execution_count": 1,
   "metadata": {},
   "outputs": [],
   "source": [
    "import numpy as np"
   ]
  },
  {
   "cell_type": "code",
   "execution_count": 15,
   "metadata": {},
   "outputs": [],
   "source": [
    "class vec3d(np.ndarray):\n",
    "    \"\"\" A 2D cartesian vector.\"\"\"\n",
    "    def __new__(cls, lst):\n",
    "        \"\"\"Create a new instance of the vec2d by calling the ndarray __new__.\"\"\"\n",
    "        # First turn the lst into an array\n",
    "        ar = np.array(lst, dtype=float)\n",
    "        # The cls here is used to tell ndarray to make a vec2d object.\n",
    "        # The data passed to the parameter buffer (i.e. ar) is used to initialise the array.\n",
    "        x = np.ndarray.__new__(cls, shape=(3,), dtype=float, buffer=ar)\n",
    "        # Why do you not just do x=np.array(lst)?, they cry.\n",
    "        # That would create a numpy ndarray object, rather than a vec2d object\n",
    "        return x\n",
    "\n",
    "    def length(self):\n",
    "        \"\"\"Returns the length of the vector.\"\"\"\n",
    "        return np.sqrt(np.sum(self*self))"
   ]
  },
  {
   "cell_type": "code",
   "execution_count": 16,
   "metadata": {},
   "outputs": [],
   "source": [
    "a = vec3d((1,0,3))"
   ]
  },
  {
   "cell_type": "code",
   "execution_count": 17,
   "metadata": {},
   "outputs": [
    {
     "name": "stdout",
     "output_type": "stream",
     "text": [
      "3.1622776601683795\n"
     ]
    }
   ],
   "source": [
    "print(a.length())"
   ]
  },
  {
   "cell_type": "code",
   "execution_count": null,
   "metadata": {},
   "outputs": [],
   "source": []
  }
 ],
 "metadata": {
  "kernelspec": {
   "display_name": "Python 3",
   "language": "python",
   "name": "python3"
  },
  "language_info": {
   "codemirror_mode": {
    "name": "ipython",
    "version": 3
   },
   "file_extension": ".py",
   "mimetype": "text/x-python",
   "name": "python",
   "nbconvert_exporter": "python",
   "pygments_lexer": "ipython3",
   "version": "3.10.9"
  },
  "orig_nbformat": 4
 },
 "nbformat": 4,
 "nbformat_minor": 2
}
