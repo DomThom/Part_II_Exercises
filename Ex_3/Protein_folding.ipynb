{
 "cells": [
  {
   "cell_type": "code",
   "execution_count": 1,
   "metadata": {},
   "outputs": [],
   "source": [
    "import numpy as np\n",
    "import matplotlib.pyplot as plt\n",
    "import matplotlib\n",
    "import scipy.integrate as sp"
   ]
  },
  {
   "attachments": {},
   "cell_type": "markdown",
   "metadata": {},
   "source": [
    "# How to solve\n",
    "\n",
    "Urea thing:\n",
    "1. run solve_svp to ~lifetime of reaction to get equilibrium for each one\n",
    "2. solve_svp returns the solutions at a given end time and at intermediate times, chooses the timestep by itself also so takes no input\n",
    "\n",
    "Oregonator:\n",
    "1. Can run solve_svp again to follow the reaction, plus it returns concentrations at timesteps\n",
    "\n",
    "Also:\n",
    "1. Create a program to run an integrator by itself\n",
    "2. Either Euler solver or BDF from first principles, difficulty in variable timestepper creation, need to make one that uses larger timesteps then reduces if a given change is negative"
   ]
  },
  {
   "cell_type": "code",
   "execution_count": 2,
   "metadata": {},
   "outputs": [],
   "source": [
    "# set initial rate constants\n",
    "ku_15_0 = 6.0e-2\n",
    "ku_16_0 = 7.5e-4\n",
    "kf_15_0 = 26000.0\n",
    "kf_16_0 = 730.0 \n",
    "\n",
    "def k_convert(k,u,const):\n",
    "    return k*np.exp(const*u)"
   ]
  },
  {
   "cell_type": "code",
   "execution_count": 208,
   "metadata": {},
   "outputs": [],
   "source": [
    "# Cell of system class\n",
    "class Cell:\n",
    "    '''\n",
    "    '''\n",
    "\n",
    "    def __init__(self,dconc,iconc,nconc,urea):\n",
    "        # Create a cell instance and rate constants\n",
    "        self.dconc = dconc\n",
    "        self.iconc = iconc\n",
    "        self.nconc = nconc\n",
    "        self.urea = urea\n",
    "        \n",
    "        self.kf_15 = k_convert(kf_15_0,urea,-1.68)\n",
    "        self.ku_15 = k_convert(ku_15_0,urea,0.95)\n",
    "        self.kf_16 = k_convert(kf_16_0,urea,-1.72)\n",
    "        self.ku_16 = k_convert(ku_16_0,urea,1.20)\n",
    "    \n",
    "    def dXdt(self,t,din):\n",
    "        # Determine rates of change of each species (ONLY FOR SCIPY SOLUTION)\n",
    "        d,i,n = din\n",
    "        dDdt = self.ku_15 * i - self.kf_15 * d\n",
    "        dIdt = self.kf_15 * d + self.ku_16 * n - self.kf_16 * i - self.ku_15 * i\n",
    "        dNdt = self.kf_16 * i - self.ku_16 * n\n",
    "        return dDdt,dIdt,dNdt\n",
    "    \n",
    "    def dX(self):\n",
    "        # Differential equations to be solved\n",
    "        dDdt = (self.ku_15*self.iconc)-(self.kf_15*self.dconc)\n",
    "        dIdt = (self.kf_15*self.dconc)+(self.ku_16*self.nconc)-(self.kf_16*self.iconc)-(self.ku_15*self.iconc)\n",
    "        dNdt = (self.kf_16*self.iconc)-(self.ku_16*self.nconc)\n",
    "        return dDdt,dIdt,dNdt\n",
    "    \n",
    "    def timestep(self,step):\n",
    "        dD,dI,dN = self.dX()\n",
    "        nxtd = self.dconc + step*dD\n",
    "        nxti = self.iconc + step*dI\n",
    "        nxtn = self.nconc + step*dN\n",
    "        \n",
    "        return nxtd,nxti,nxtn\n",
    "\n",
    "    def equilibrium(self,initstep,rtol,atol): #rtol\n",
    "        # conv = False\n",
    "        time = 0\n",
    "        step = initstep\n",
    "        reldelta = np.array([100,100,100])\n",
    "        absdelta = np.array([100,100,100])\n",
    "\n",
    "        while any([np.abs(reldiff) > rtol for reldiff in reldelta]) and any([np.abs(absdiff) > atol for absdiff in absdelta]):\n",
    "            \n",
    "            nxtd,nxti,nxtn = self.timestep(step)\n",
    "\n",
    "            reldelta = np.array([(self.dconc-nxtd)/nxtd,(self.iconc-nxti)/nxti,(self.nconc-nxtn)/nxtn])\n",
    "            absdelta = np.array([self.dconc-nxtd,self.iconc-nxti,self.nconc-nxtn])\n",
    "\n",
    "            # Progress concentrations\n",
    "            self.dconc = nxtd\n",
    "            self.iconc = nxti\n",
    "            self.nconc = nxtn\n",
    "            time += step\n",
    "    \n",
    "        print('urea='+str(self.urea)+' converged in '+str(time)+'s simulated')\n",
    "\n",
    "    # def find_equil(self,initstep,steptol,tf):\n",
    "    #     # Find the equilibrium of the system contained within the class\n",
    "    #     conv = False\n",
    "    #     time = 0\n",
    "    #     step = initstep\n",
    "    #     safe_factor = 0.7\n",
    "\n",
    "    #     while time<tf:\n",
    "            \n",
    "    #         nxtd,nxti,nxtn = self.timestep(step)\n",
    "\n",
    "    #         # Determine error and compare to tolerance\n",
    "\n",
    "    #         d_err = np.abs(nxtd-self.dconc)\n",
    "    #         i_err = np.abs(nxti-self.iconc) \n",
    "    #         n_err = np.abs(nxtn-self.nconc)\n",
    "    #         error = list([d_err,i_err,n_err])\n",
    "\n",
    "    #         # if max(d_err,i_err,n_err) == d_err:\n",
    "    #         #     scale_tol = steptol * max(self.dconc,nxtd)\n",
    "    #         # elif max(d_err,i_err,n_err) == i_err:\n",
    "    #         #     scale_tol = steptol * max(self.iconc,nxti)\n",
    "    #         # else:\n",
    "    #         #     scale_tol = steptol * max(self.nconc,nxtn)\n",
    "\n",
    "    #         # set values and increase step if within error, otherwise decrease\n",
    "    #         if error/steptol <=1:\n",
    "    #             # DLast = self.dconc\n",
    "    #             # ILast = self.iconc\n",
    "    #             # NLast = self.nconc\n",
    "\n",
    "    #             self.dconc = nxtd\n",
    "    #             self.iconc = nxti\n",
    "    #             self.nconc = nxtn\n",
    "    #             time += step\n",
    "\n",
    "    #             # # Check for convergence if step made\n",
    "    #             # if np.allclose(self.dconc,DLast,rtol=rtol,atol=atol) and\\\n",
    "    #             #     np.allclose(self.iconc,ILast,rtol=rtol,atol=atol) and\\\n",
    "    #             #     np.allclose(self.nconc,NLast,rtol=rtol,atol=atol):\n",
    "\n",
    "    #             #     print('urea='+str(self.urea)+' converged in '+str(time)+'s simulated')\n",
    "    #             #     conv = True\n",
    "\n",
    "\n",
    "    #             step *= safe_factor * np.power(scale_tol/total_err,0.5)\n",
    "    #         else:\n",
    "    #             # change step size down if error too high\n",
    "    #             step *= safe_factor * np.power(scale_tol/total_err,1/3)\n",
    "            \n",
    "\n"
   ]
  },
  {
   "attachments": {},
   "cell_type": "markdown",
   "metadata": {},
   "source": [
    "### Equilibria from own integrator"
   ]
  },
  {
   "cell_type": "code",
   "execution_count": 212,
   "metadata": {},
   "outputs": [
    {
     "name": "stdout",
     "output_type": "stream",
     "text": [
      "urea=0.0 converged in 1e-05s simulated\n",
      "urea=0.08080808080808081 converged in 1e-05s simulated\n",
      "urea=0.16161616161616163 converged in 1e-05s simulated\n",
      "urea=0.24242424242424243 converged in 1e-05s simulated\n",
      "urea=0.32323232323232326 converged in 1e-05s simulated\n",
      "urea=0.4040404040404041 converged in 1e-05s simulated\n",
      "urea=0.48484848484848486 converged in 1e-05s simulated\n",
      "urea=0.5656565656565657 converged in 1e-05s simulated\n",
      "urea=0.6464646464646465 converged in 1e-05s simulated\n",
      "urea=0.7272727272727273 converged in 1e-05s simulated\n",
      "urea=0.8080808080808082 converged in 1e-05s simulated\n",
      "urea=0.888888888888889 converged in 1e-05s simulated\n",
      "urea=0.9696969696969697 converged in 1e-05s simulated\n",
      "urea=1.0505050505050506 converged in 1e-05s simulated\n",
      "urea=1.1313131313131315 converged in 1e-05s simulated\n",
      "urea=1.2121212121212122 converged in 1e-05s simulated\n",
      "urea=1.292929292929293 converged in 1e-05s simulated\n",
      "urea=1.373737373737374 converged in 1e-05s simulated\n",
      "urea=1.4545454545454546 converged in 1e-05s simulated\n",
      "urea=1.5353535353535355 converged in 1e-05s simulated\n",
      "urea=1.6161616161616164 converged in 1e-05s simulated\n",
      "urea=1.696969696969697 converged in 1e-05s simulated\n",
      "urea=1.777777777777778 converged in 1e-05s simulated\n",
      "urea=1.8585858585858588 converged in 1e-05s simulated\n",
      "urea=1.9393939393939394 converged in 1e-05s simulated\n",
      "urea=2.0202020202020203 converged in 1e-05s simulated\n",
      "urea=2.101010101010101 converged in 1e-05s simulated\n",
      "urea=2.181818181818182 converged in 0.0015500000000000034s simulated\n",
      "urea=2.262626262626263 converged in 0.006909999999999887s simulated\n",
      "urea=2.3434343434343434 converged in 0.009609999999999777s simulated\n",
      "urea=2.4242424242424243 converged in 0.013109999999999634s simulated\n",
      "urea=2.505050505050505 converged in 0.017609999999999452s simulated\n",
      "urea=2.585858585858586 converged in 0.023389999999999217s simulated\n",
      "urea=2.666666666666667 converged in 0.030759999999998917s simulated\n",
      "urea=2.747474747474748 converged in 0.04010000000000161s simulated\n",
      "urea=2.8282828282828287 converged in 0.051920000000005226s simulated\n",
      "urea=2.909090909090909 converged in 0.0668000000000068s simulated\n",
      "urea=2.98989898989899 converged in 0.08546999999999956s simulated\n",
      "urea=3.070707070707071 converged in 0.10877999999999052s simulated\n",
      "urea=3.151515151515152 converged in 0.13783999999999708s simulated\n",
      "urea=3.2323232323232327 converged in 0.17388000000003312s simulated\n",
      "urea=3.3131313131313136 converged in 0.2184500000000777s simulated\n",
      "urea=3.393939393939394 converged in 0.2733500000001326s simulated\n",
      "urea=3.474747474747475 converged in 0.34070000000019995s simulated\n",
      "urea=3.555555555555556 converged in 0.4229600000002822s simulated\n",
      "urea=3.6363636363636367 converged in 0.5229400000002549s simulated\n",
      "urea=3.7171717171717176 converged in 0.6437499999997051s simulated\n",
      "urea=3.7979797979797985 converged in 0.7887199999990453s simulated\n",
      "urea=3.878787878787879 converged in 0.9612399999982602s simulated\n",
      "urea=3.95959595959596 converged in 1.1643699999991606s simulated\n",
      "urea=4.040404040404041 converged in 1.4003500000007065s simulated\n",
      "urea=4.121212121212122 converged in 1.6697200000024712s simulated\n",
      "urea=4.202020202020202 converged in 1.9702200000044399s simulated\n",
      "urea=4.282828282828283 converged in 2.2952700000065693s simulated\n",
      "urea=4.363636363636364 converged in 2.6325100000087787s simulated\n",
      "urea=4.444444444444445 converged in 2.9626500000109415s simulated\n",
      "urea=4.525252525252526 converged in 3.2595700000128867s simulated\n",
      "urea=4.606060606060606 converged in 3.492530000014413s simulated\n",
      "urea=4.686868686868687 converged in 3.6310800000153205s simulated\n",
      "urea=4.767676767676768 converged in 3.6518100000154563s simulated\n",
      "urea=4.848484848484849 converged in 3.545070000014757s simulated\n",
      "urea=4.92929292929293 converged in 3.3186400000132736s simulated\n",
      "urea=5.01010101010101 converged in 2.996460000011163s simulated\n",
      "urea=5.090909090909092 converged in 2.6129800000086507s simulated\n",
      "urea=5.171717171717172 converged in 2.2054200000059807s simulated\n",
      "urea=5.252525252525253 converged in 1.8068800000033698s simulated\n",
      "urea=5.333333333333334 converged in 1.4420300000009796s simulated\n",
      "urea=5.414141414141414 converged in 1.1257299999989074s simulated\n",
      "urea=5.494949494949496 converged in 0.8638299999987035s simulated\n",
      "urea=5.575757575757576 converged in 0.6552199999996529s simulated\n",
      "urea=5.6565656565656575 converged in 0.49430000000035357s simulated\n",
      "urea=5.737373737373738 converged in 0.3892600000002485s simulated\n",
      "urea=5.818181818181818 converged in 0.3458300000002051s simulated\n",
      "urea=5.8989898989899 converged in 0.29989000000015914s simulated\n",
      "urea=5.97979797979798 converged in 0.2593800000001186s simulated\n",
      "urea=6.060606060606061 converged in 0.22480000000008404s simulated\n",
      "urea=6.141414141414142 converged in 0.19531000000005455s simulated\n",
      "urea=6.222222222222222 converged in 0.17003000000002927s simulated\n",
      "urea=6.303030303030304 converged in 0.14823000000000747s simulated\n",
      "urea=6.383838383838384 converged in 0.12933999999998858s simulated\n",
      "urea=6.464646464646465 converged in 0.11290999999998892s simulated\n",
      "urea=6.545454545454546 converged in 0.09856999999999448s simulated\n",
      "urea=6.626262626262627 converged in 0.08601999999999935s simulated\n",
      "urea=6.707070707070708 converged in 0.0750400000000036s simulated\n",
      "urea=6.787878787878788 converged in 0.06541000000000734s simulated\n",
      "urea=6.868686868686869 converged in 0.05696000000000677s simulated\n",
      "urea=6.94949494949495 converged in 0.0495400000000045s simulated\n",
      "urea=7.030303030303031 converged in 0.04304000000000251s simulated\n",
      "urea=7.111111111111112 converged in 0.03734000000000076s simulated\n",
      "urea=7.191919191919193 converged in 0.032349999999999234s simulated\n",
      "urea=7.272727272727273 converged in 0.02798999999999903s simulated\n",
      "urea=7.353535353535354 converged in 0.024169999999999185s simulated\n",
      "urea=7.434343434343435 converged in 0.02084999999999932s simulated\n",
      "urea=7.515151515151516 converged in 0.01794999999999944s simulated\n",
      "urea=7.595959595959597 converged in 0.01543999999999954s simulated\n",
      "urea=7.676767676767677 converged in 0.013259999999999628s simulated\n",
      "urea=7.757575757575758 converged in 0.011369999999999705s simulated\n",
      "urea=7.838383838383839 converged in 0.009749999999999771s simulated\n",
      "urea=7.91919191919192 converged in 0.008349999999999828s simulated\n",
      "urea=8.0 converged in 0.007149999999999877s simulated\n"
     ]
    }
   ],
   "source": [
    "# Solve a range of 100 equilibriums using Euler integrator, takes ~9.5mins\n",
    "rxns = list()\n",
    "ur = np.linspace(0,8,100)\n",
    "\n",
    "d_eq = np.array([0])\n",
    "i_eq = np.array([0])\n",
    "n_eq = np.array([1])\n",
    "\n",
    "for u in ur:\n",
    "    rxns.append(Cell(d_eq[-1],i_eq[-1],n_eq[-1],u))\n",
    "    rxns[-1].equilibrium(1e-5,1e-7,1e-7)\n",
    "    d_eq = np.append(d_eq,rxns[-1].dconc)\n",
    "    i_eq = np.append(i_eq,rxns[-1].iconc)\n",
    "    n_eq = np.append(n_eq,rxns[-1].nconc)\n",
    "\n",
    "d_eq = np.delete(d_eq,0)\n",
    "i_eq = np.delete(i_eq,0)\n",
    "n_eq = np.delete(n_eq,0)"
   ]
  },
  {
   "cell_type": "code",
   "execution_count": 213,
   "metadata": {},
   "outputs": [
    {
     "data": {
      "text/plain": [
       "<matplotlib.legend.Legend at 0x16cd941db10>"
      ]
     },
     "execution_count": 213,
     "metadata": {},
     "output_type": "execute_result"
    },
    {
     "data": {
      "image/png": "[encoded data removed]",
      "text/plain": [
       "<Figure size 640x480 with 1 Axes>"
      ]
     },
     "metadata": {},
     "output_type": "display_data"
    }
   ],
   "source": [
    "# Plot equilibrium values obtained\n",
    "fig = plt.figure()\n",
    "ax = plt.axes()\n",
    "\n",
    "ax.plot(ur,d_eq,label='d')\n",
    "ax.plot(ur,i_eq,label='i')\n",
    "ax.plot(ur,n_eq,label='n')\n",
    "\n",
    "ax.set_xlim(0.09,8)\n",
    "ax.set_ylim(0,1)\n",
    "\n",
    "plt.legend()"
   ]
  },
  {
   "attachments": {},
   "cell_type": "markdown",
   "metadata": {},
   "source": [
    "### Finding equilibria with scipy"
   ]
  },
  {
   "cell_type": "code",
   "execution_count": 214,
   "metadata": {},
   "outputs": [],
   "source": [
    "# Solve a range of 100 equilibriums using the scipy package\n",
    "rxns = list()\n",
    "ur = np.linspace(0,8,1000)\n",
    "\n",
    "for u in ur:\n",
    "    rxns.append(Cell(0,0,1,u))\n",
    "\n",
    "d_eq = np.empty(0)\n",
    "i_eq = np.empty(0)\n",
    "n_eq = np.empty(0)\n",
    "\n",
    "for r in rxns:\n",
    "    y0 = [r.dconc,r.iconc,r.nconc]\n",
    "    sol = sp.solve_ivp(r.dXdt,(0,20),y0,method='BDF',t_eval=[20])\n",
    "    d_eq = np.append(d_eq,sol.y[0])\n",
    "    i_eq = np.append(i_eq,sol.y[1])\n",
    "    n_eq = np.append(n_eq,sol.y[2])"
   ]
  },
  {
   "cell_type": "code",
   "execution_count": 215,
   "metadata": {},
   "outputs": [
    {
     "data": {
      "text/plain": [
       "<matplotlib.legend.Legend at 0x16cd9475960>"
      ]
     },
     "execution_count": 215,
     "metadata": {},
     "output_type": "execute_result"
    },
    {
     "data": {
      "image/png": "[encoded data removed]",
      "text/plain": [
       "<Figure size 640x480 with 1 Axes>"
      ]
     },
     "metadata": {},
     "output_type": "display_data"
    }
   ],
   "source": [
    "# Plot equilibrium values obtained with sp.solve_ivp()\n",
    "fig = plt.figure()\n",
    "ax = plt.axes()\n",
    "\n",
    "ax.plot(ur,d_eq,label='d')\n",
    "ax.plot(ur,i_eq,label='i')\n",
    "ax.plot(ur,n_eq,label='n')\n",
    "\n",
    "plt.legend()"
   ]
  },
  {
   "cell_type": "code",
   "execution_count": null,
   "metadata": {},
   "outputs": [],
   "source": []
  }
 ],
 "metadata": {
  "kernelspec": {
   "display_name": "Python 3",
   "language": "python",
   "name": "python3"
  },
  "language_info": {
   "codemirror_mode": {
    "name": "ipython",
    "version": 3
   },
   "file_extension": ".py",
   "mimetype": "text/x-python",
   "name": "python",
   "nbconvert_exporter": "python",
   "pygments_lexer": "ipython3",
   "version": "3.10.9"
  },
  "orig_nbformat": 4,
  "vscode": {
   "interpreter": {
    "hash": "cc2a200e1e6dab10c4dc3986f0e7a998296447c993c26561a1bd050a849d8214"
   }
  }
 },
 "nbformat": 4,
 "nbformat_minor": 2
}
